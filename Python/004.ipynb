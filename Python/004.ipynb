{
 "cells": [
  {
   "cell_type": "code",
   "execution_count": 5,
   "metadata": {},
   "outputs": [
    {
     "name": "stdout",
     "output_type": "stream",
     "text": [
      "else\n"
     ]
    }
   ],
   "source": [
    "a = 30\n",
    "if a == 10:\n",
    "    print('Hello world')\n",
    "elif a < 20:\n",
    "    print('Good job 1')\n",
    "elif a < 20:\n",
    "    print('Good job 2')\n",
    "elif a < 20:\n",
    "    print('Good job 3') # elif문은 얼마든지 둘 수 있다.\n",
    "else:\n",
    "    print('else')\n",
    "    \n",
    "# elif와 else는 단독으로 쓸 수 없다. 반드시 if가 있어야 함."
   ]
  }
 ],
 "metadata": {
  "kernelspec": {
   "display_name": "Python 3",
   "language": "python",
   "name": "python3"
  },
  "language_info": {
   "codemirror_mode": {
    "name": "ipython",
    "version": 3
   },
   "file_extension": ".py",
   "mimetype": "text/x-python",
   "name": "python",
   "nbconvert_exporter": "python",
   "pygments_lexer": "ipython3",
   "version": "3.7.6"
  }
 },
 "nbformat": 4,
 "nbformat_minor": 4
}
