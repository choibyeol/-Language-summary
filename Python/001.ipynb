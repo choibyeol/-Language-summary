{
 "cells": [
  {
   "cell_type": "code",
   "execution_count": 3,
   "metadata": {},
   "outputs": [
    {
     "name": "stdout",
     "output_type": "stream",
     "text": [
      "13\n",
      "'hello world'\n"
     ]
    }
   ],
   "source": [
    "x = 3\n",
    "y = 10\n",
    "print(x + y)\n",
    "\n",
    "#'hello world'\n",
    "print('\\'hello world\\'')"
   ]
  },
  {
   "cell_type": "code",
   "execution_count": 7,
   "metadata": {},
   "outputs": [
    {
     "name": "stdout",
     "output_type": "stream",
     "text": [
      "20.1\n",
      "choibyeol\n",
      "<class 'int'>\n"
     ]
    }
   ],
   "source": [
    "a = 10            #int\n",
    "b = 10.1          #float\n",
    "c = 'hello world' #str\n",
    "d = -1\n",
    "e = 'choi'\n",
    "f = 'byeol'\n",
    "g = 10 + 2j\n",
    "h = 0b1001     #int\n",
    "i = 0o1001     #int\n",
    "j = 0x1001     #int\n",
    "\n",
    "print(a + b)\n",
    "print(e + f)\n",
    "print(type(a))\n",
    "#print(dir(a))"
   ]
  },
  {
   "cell_type": "code",
   "execution_count": 12,
   "metadata": {},
   "outputs": [
    {
     "name": "stdout",
     "output_type": "stream",
     "text": [
      "<class 'str'>\n",
      "K\n",
      "Kyunghe\n",
      "Kuge nvC\n",
      "nU eehgnuy\n",
      "Kuge \n",
      "Kuge nvCobel\n",
      "loeybiohC vinU eehgnuyK\n",
      "l\n"
     ]
    }
   ],
   "source": [
    "s = 'Kyunghee Univ Choibyeol'\n",
    "print(type(s))\n",
    "#print(dir(s)) \n",
    "print(s[0])\n",
    "print(s[0:7])\n",
    "print(s[0:15:2])\n",
    "print(s[10:0:-1])\n",
    "print(s[:10:2])\n",
    "print(s[::2])\n",
    "print(s[::-1])\n",
    "print(s[-1])"
   ]
  },
  {
   "cell_type": "code",
   "execution_count": 26,
   "metadata": {},
   "outputs": [
    {
     "name": "stdout",
     "output_type": "stream",
     "text": [
      "<class 'str'>\n",
      "['__add__', '__class__', '__contains__', '__delattr__', '__dir__', '__doc__', '__eq__', '__format__', '__ge__', '__getattribute__', '__getitem__', '__getnewargs__', '__gt__', '__hash__', '__init__', '__init_subclass__', '__iter__', '__le__', '__len__', '__lt__', '__mod__', '__mul__', '__ne__', '__new__', '__reduce__', '__reduce_ex__', '__repr__', '__rmod__', '__rmul__', '__setattr__', '__sizeof__', '__str__', '__subclasshook__', 'capitalize', 'casefold', 'center', 'count', 'encode', 'endswith', 'expandtabs', 'find', 'format', 'format_map', 'index', 'isalnum', 'isalpha', 'isascii', 'isdecimal', 'isdigit', 'isidentifier', 'islower', 'isnumeric', 'isprintable', 'isspace', 'istitle', 'isupper', 'join', 'ljust', 'lower', 'lstrip', 'maketrans', 'partition', 'replace', 'rfind', 'rindex', 'rjust', 'rpartition', 'rsplit', 'rstrip', 'split', 'splitlines', 'startswith', 'strip', 'swapcase', 'title', 'translate', 'upper', 'zfill']\n",
      "KYUNGHEE UNIV CHOIBYEOL\n",
      "kyunghee univ choibyeol\n",
      "    hello world    \n",
      "hello world\n",
      "['Kyunghee', 'Univ', 'Choibyeol']\n",
      "Kyunghee!Univ!Choibyeol\n",
      "제 이름은 최별입니다. 제 나이는 22입니다.\n",
      "제 이름은 22입니다. 제 나이는 최별입니다.\n"
     ]
    }
   ],
   "source": [
    "s = 'Kyunghee Univ Choibyeol'\n",
    "print(type(s))\n",
    "print(dir(s))\n",
    "print(s.upper())\n",
    "print(s.lower())\n",
    "s.count('e')\n",
    "ss = '    hello world    '\n",
    "print(ss)\n",
    "print(ss.strip())\n",
    "a = s.split(' ')\n",
    "print(a)\n",
    "print('!'.join(a))\n",
    "print('제 이름은 {}입니다. 제 나이는 {}입니다.'.format('최별', 22))\n",
    "print('제 이름은 {1}입니다. 제 나이는 {0}입니다.'.format('최별', 22))"
   ]
  },
  {
   "cell_type": "code",
   "execution_count": 29,
   "metadata": {},
   "outputs": [
    {
     "name": "stdout",
     "output_type": "stream",
     "text": [
      "2020/8/17 2020 8 17\n"
     ]
    }
   ],
   "source": [
    "a = 2020\n",
    "b = 8\n",
    "c = 17\n",
    "# 2020/8/17\n",
    "print(a, b, c, sep = '/', end = ' ')\n",
    "print(a, b, c)"
   ]
  },
  {
   "cell_type": "code",
   "execution_count": 32,
   "metadata": {},
   "outputs": [
    {
     "name": "stdout",
     "output_type": "stream",
     "text": [
      "20\n",
      "1010\n"
     ]
    }
   ],
   "source": [
    "a = 10\n",
    "b = '10'\n",
    "print(a + int(b))\n",
    "print(str(a) + b) # 형변환"
   ]
  },
  {
   "cell_type": "code",
   "execution_count": 34,
   "metadata": {},
   "outputs": [
    {
     "name": "stdout",
     "output_type": "stream",
     "text": [
      "<class 'bool'>\n"
     ]
    }
   ],
   "source": [
    "a = True\n",
    "b = False\n",
    "print(type(a))\n",
    "#print(dir(a))"
   ]
  },
  {
   "cell_type": "code",
   "execution_count": 2,
   "metadata": {},
   "outputs": [
    {
     "name": "stdout",
     "output_type": "stream",
     "text": [
      "True\n",
      "False\n",
      "False\n",
      "True\n",
      "True\n",
      "False\n"
     ]
    }
   ],
   "source": [
    "print(bool(' '))\n",
    "print(bool(''))\n",
    "print(bool(0))\n",
    "print(bool(1))\n",
    "print(bool(-1))\n",
    "print(bool(None))"
   ]
  },
  {
   "cell_type": "code",
   "execution_count": 5,
   "metadata": {},
   "outputs": [
    {
     "name": "stdout",
     "output_type": "stream",
     "text": [
      "13\n",
      "-7\n",
      "3.3333333333333335\n",
      "3\n",
      "30\n",
      "1000\n",
      "1\n"
     ]
    }
   ],
   "source": [
    "a = 3\n",
    "b = 10\n",
    "print(a + b)\n",
    "print(a - b)\n",
    "print(b / a) #float\n",
    "print(b // a) #int\n",
    "print(b * a)\n",
    "print(b ** a)\n",
    "print(b % a)"
   ]
  },
  {
   "cell_type": "code",
   "execution_count": 6,
   "metadata": {},
   "outputs": [
    {
     "name": "stdout",
     "output_type": "stream",
     "text": [
      "True\n",
      "True\n",
      "False\n",
      "False\n",
      "False\n",
      "True\n"
     ]
    }
   ],
   "source": [
    "#비교연산\n",
    "a = 10\n",
    "b = 3\n",
    "print(a >= b)\n",
    "print(a > b)\n",
    "print(a < b)\n",
    "print(a <= b)\n",
    "print(a == b)\n",
    "print(a != b)"
   ]
  },
  {
   "cell_type": "code",
   "execution_count": 7,
   "metadata": {},
   "outputs": [
    {
     "name": "stdout",
     "output_type": "stream",
     "text": [
      "False\n",
      "True\n",
      "True\n"
     ]
    }
   ],
   "source": [
    "#논리연산\n",
    "a = True       #1\n",
    "b = False      #0\n",
    "print(a and b) # *\n",
    "print(a or b)  # +\n",
    "print(not b)   # 반대"
   ]
  },
  {
   "cell_type": "code",
   "execution_count": 11,
   "metadata": {},
   "outputs": [
    {
     "name": "stdout",
     "output_type": "stream",
     "text": [
      "30\n"
     ]
    }
   ],
   "source": [
    "#할당연산\n",
    "a = 10\n",
    "a = a + 10\n",
    "a += 10\n",
    "print(a)"
   ]
  },
  {
   "cell_type": "code",
   "execution_count": 13,
   "metadata": {},
   "outputs": [
    {
     "name": "stdout",
     "output_type": "stream",
     "text": [
      "8\n",
      "101000\n",
      "101000\n"
     ]
    }
   ],
   "source": [
    "#bit 연산\n",
    "a = 40\n",
    "b = 14\n",
    "print(a & b)\n",
    "# &, |, ~\n",
    "print(bin(a)[2:].zfill(6))\n",
    "print(bin(a)[2:].zfill(6))\n",
    "# 101000\n",
    "# 001110\n",
    "# -------- and 연산\n",
    "# 001000"
   ]
  },
  {
   "cell_type": "code",
   "execution_count": 14,
   "metadata": {},
   "outputs": [
    {
     "name": "stdout",
     "output_type": "stream",
     "text": [
      "8\n"
     ]
    }
   ],
   "source": [
    "def f(x, y):\n",
    "    z = x + y\n",
    "    return z\n",
    "print(f(3, 5))"
   ]
  },
  {
   "cell_type": "code",
   "execution_count": 16,
   "metadata": {},
   "outputs": [
    {
     "name": "stdout",
     "output_type": "stream",
     "text": [
      "3\n",
      "4\n",
      "1\n",
      "2\n",
      "3\n",
      "None\n"
     ]
    }
   ],
   "source": [
    "def ff():\n",
    "    print('1')\n",
    "    print('2')\n",
    "    print('3')\n",
    "    return None\n",
    "print('3')\n",
    "print(4)\n",
    "print(ff())"
   ]
  },
  {
   "cell_type": "code",
   "execution_count": 17,
   "metadata": {},
   "outputs": [
    {
     "name": "stdout",
     "output_type": "stream",
     "text": [
      "314.0\n"
     ]
    }
   ],
   "source": [
    "def circle(r):\n",
    "    width = r*r*3.14\n",
    "    return width\n",
    "print(circle(10))"
   ]
  },
  {
   "cell_type": "code",
   "execution_count": 20,
   "metadata": {},
   "outputs": [
    {
     "name": "stdout",
     "output_type": "stream",
     "text": [
      "20\n"
     ]
    }
   ],
   "source": [
    "a = 10\n",
    "def aplus():\n",
    "    global a\n",
    "    a += 10\n",
    "    return a\n",
    "print(aplus())"
   ]
  }
 ],
 "metadata": {
  "kernelspec": {
   "display_name": "Python 3",
   "language": "python",
   "name": "python3"
  },
  "language_info": {
   "codemirror_mode": {
    "name": "ipython",
    "version": 3
   },
   "file_extension": ".py",
   "mimetype": "text/x-python",
   "name": "python",
   "nbconvert_exporter": "python",
   "pygments_lexer": "ipython3",
   "version": "3.7.6"
  }
 },
 "nbformat": 4,
 "nbformat_minor": 4
}
