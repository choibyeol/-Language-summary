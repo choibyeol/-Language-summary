{
 "cells": [
  {
   "cell_type": "code",
   "execution_count": 3,
   "metadata": {},
   "outputs": [
    {
     "name": "stdout",
     "output_type": "stream",
     "text": [
      "13\n",
      "'hello world'\n"
     ]
    }
   ],
   "source": [
    "x = 3\n",
    "y = 10\n",
    "print(x + y)\n",
    "\n",
    "#'hello world'\n",
    "print('\\'hello world\\'')"
   ]
  },
  {
   "cell_type": "code",
   "execution_count": 7,
   "metadata": {},
   "outputs": [
    {
     "name": "stdout",
     "output_type": "stream",
     "text": [
      "20.1\n",
      "choibyeol\n",
      "<class 'int'>\n"
     ]
    }
   ],
   "source": [
    "a = 10            #int\n",
    "b = 10.1          #float\n",
    "c = 'hello world' #str\n",
    "d = -1\n",
    "e = 'choi'\n",
    "f = 'byeol'\n",
    "g = 10 + 2j\n",
    "h = 0b1001     #int\n",
    "i = 0o1001     #int\n",
    "j = 0x1001     #int\n",
    "\n",
    "print(a + b)\n",
    "print(e + f)\n",
    "print(type(a))\n",
    "#print(dir(a))"
   ]
  },
  {
   "cell_type": "code",
   "execution_count": 12,
   "metadata": {},
   "outputs": [
    {
     "name": "stdout",
     "output_type": "stream",
     "text": [
      "<class 'str'>\n",
      "K\n",
      "Kyunghe\n",
      "Kuge nvC\n",
      "nU eehgnuy\n",
      "Kuge \n",
      "Kuge nvCobel\n",
      "loeybiohC vinU eehgnuyK\n",
      "l\n"
     ]
    }
   ],
   "source": [
    "s = 'Kyunghee Univ Choibyeol'\n",
    "print(type(s))\n",
    "#print(dir(s)) \n",
    "print(s[0])\n",
    "print(s[0:7])\n",
    "print(s[0:15:2])\n",
    "print(s[10:0:-1])\n",
    "print(s[:10:2])\n",
    "print(s[::2])\n",
    "print(s[::-1])\n",
    "print(s[-1])"
   ]
  },
  {
   "cell_type": "code",
   "execution_count": 26,
   "metadata": {},
   "outputs": [
    {
     "name": "stdout",
     "output_type": "stream",
     "text": [
      "<class 'str'>\n",
      "['__add__', '__class__', '__contains__', '__delattr__', '__dir__', '__doc__', '__eq__', '__format__', '__ge__', '__getattribute__', '__getitem__', '__getnewargs__', '__gt__', '__hash__', '__init__', '__init_subclass__', '__iter__', '__le__', '__len__', '__lt__', '__mod__', '__mul__', '__ne__', '__new__', '__reduce__', '__reduce_ex__', '__repr__', '__rmod__', '__rmul__', '__setattr__', '__sizeof__', '__str__', '__subclasshook__', 'capitalize', 'casefold', 'center', 'count', 'encode', 'endswith', 'expandtabs', 'find', 'format', 'format_map', 'index', 'isalnum', 'isalpha', 'isascii', 'isdecimal', 'isdigit', 'isidentifier', 'islower', 'isnumeric', 'isprintable', 'isspace', 'istitle', 'isupper', 'join', 'ljust', 'lower', 'lstrip', 'maketrans', 'partition', 'replace', 'rfind', 'rindex', 'rjust', 'rpartition', 'rsplit', 'rstrip', 'split', 'splitlines', 'startswith', 'strip', 'swapcase', 'title', 'translate', 'upper', 'zfill']\n",
      "KYUNGHEE UNIV CHOIBYEOL\n",
      "kyunghee univ choibyeol\n",
      "    hello world    \n",
      "hello world\n",
      "['Kyunghee', 'Univ', 'Choibyeol']\n",
      "Kyunghee!Univ!Choibyeol\n",
      "제 이름은 최별입니다. 제 나이는 22입니다.\n",
      "제 이름은 22입니다. 제 나이는 최별입니다.\n"
     ]
    }
   ],
   "source": [
    "s = 'Kyunghee Univ Choibyeol'\n",
    "print(type(s))\n",
    "print(dir(s))\n",
    "print(s.upper())\n",
    "print(s.lower())\n",
    "s.count('e')\n",
    "ss = '    hello world    '\n",
    "print(ss)\n",
    "print(ss.strip())\n",
    "a = s.split(' ')\n",
    "print(a)\n",
    "print('!'.join(a))\n",
    "print('제 이름은 {}입니다. 제 나이는 {}입니다.'.format('최별', 22))\n",
    "print('제 이름은 {1}입니다. 제 나이는 {0}입니다.'.format('최별', 22))"
   ]
  },
  {
   "cell_type": "code",
   "execution_count": 29,
   "metadata": {},
   "outputs": [
    {
     "name": "stdout",
     "output_type": "stream",
     "text": [
      "2020/8/17 2020 8 17\n"
     ]
    }
   ],
   "source": [
    "a = 2020\n",
    "b = 8\n",
    "c = 17\n",
    "# 2020/8/17\n",
    "print(a, b, c, sep = '/', end = ' ')\n",
    "print(a, b, c)"
   ]
  },
  {
   "cell_type": "code",
   "execution_count": 32,
   "metadata": {},
   "outputs": [
    {
     "name": "stdout",
     "output_type": "stream",
     "text": [
      "20\n",
      "1010\n"
     ]
    }
   ],
   "source": [
    "a = 10\n",
    "b = '10'\n",
    "print(a + int(b))\n",
    "print(str(a) + b) # 형변환"
   ]
  },
  {
   "cell_type": "code",
   "execution_count": 34,
   "metadata": {},
   "outputs": [
    {
     "name": "stdout",
     "output_type": "stream",
     "text": [
      "<class 'bool'>\n"
     ]
    }
   ],
   "source": [
    "a = True\n",
    "b = False\n",
    "print(type(a))\n",
    "#print(dir(a))"
   ]
  },
  {
   "cell_type": "code",
   "execution_count": null,
   "metadata": {},
   "outputs": [],
   "source": []
  }
 ],
 "metadata": {
  "kernelspec": {
   "display_name": "Python 3",
   "language": "python",
   "name": "python3"
  },
  "language_info": {
   "codemirror_mode": {
    "name": "ipython",
    "version": 3
   },
   "file_extension": ".py",
   "mimetype": "text/x-python",
   "name": "python",
   "nbconvert_exporter": "python",
   "pygments_lexer": "ipython3",
   "version": "3.7.6"
  }
 },
 "nbformat": 4,
 "nbformat_minor": 4
}
