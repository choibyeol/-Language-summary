{
 "cells": [
  {
   "cell_type": "code",
   "execution_count": 3,
   "metadata": {},
   "outputs": [
    {
     "name": "stdout",
     "output_type": "stream",
     "text": [
      "5\n",
      "5\n",
      "<class '__main__.Car'>\n",
      "['__class__', '__delattr__', '__dict__', '__dir__', '__doc__', '__eq__', '__format__', '__ge__', '__getattribute__', '__gt__', '__hash__', '__init__', '__init_subclass__', '__le__', '__lt__', '__module__', '__ne__', '__new__', '__reduce__', '__reduce_ex__', '__repr__', '__setattr__', '__sizeof__', '__str__', '__subclasshook__', '__weakref__', 'maxPeople', 'maxSpeed', 'start', 'stop']\n"
     ]
    }
   ],
   "source": [
    "class Car():\n",
    "    maxSpeed = 300\n",
    "    maxPeople = 5\n",
    "    def start(self):\n",
    "        print(\"출발\")\n",
    "    def stop(self):\n",
    "        print(\"정지\")\n",
    "\n",
    "k9 = Car()\n",
    "k5 = Car()\n",
    "k3 = Car()\n",
    "print(k9.maxPeople)\n",
    "print(k3.maxPeople)\n",
    "print(type(k9))\n",
    "print(dir(k9))"
   ]
  },
  {
   "cell_type": "markdown",
   "metadata": {},
   "source": [
    "## class\n",
    "1. class name 첫 문자가 대문자\n",
    "2. class는 대부분 직접 만지지 않는다.\n",
    "3. calss는 붕어빵 찍는 틀로 생각한다면 instance는 붕어빵이다.\n",
    "\n",
    "### 다양한 Built-in Function 찾아보고 사용 + 필요에 따라 재정의"
   ]
  },
  {
   "cell_type": "code",
   "execution_count": 5,
   "metadata": {},
   "outputs": [
    {
     "name": "stdout",
     "output_type": "stream",
     "text": [
      "인스턴스가 만들어졌습니다.\n",
      "인스턴스가 만들어졌습니다.\n",
      "인스턴스가 만들어졌습니다.\n",
      "5\n",
      "5\n",
      "<class '__main__.Car'>\n",
      "['__class__', '__delattr__', '__dict__', '__dir__', '__doc__', '__eq__', '__format__', '__ge__', '__getattribute__', '__gt__', '__hash__', '__init__', '__init_subclass__', '__le__', '__lt__', '__module__', '__ne__', '__new__', '__reduce__', '__reduce_ex__', '__repr__', '__setattr__', '__sizeof__', '__str__', '__subclasshook__', '__weakref__', 'maxPeople', 'maxSpeed', 'start', 'stop']\n",
      "Hello world\n"
     ]
    }
   ],
   "source": [
    "class Car(object):\n",
    "    maxSpeed = 300\n",
    "    maxPeople = 5\n",
    "    def start(self):\n",
    "        print(\"출발\")\n",
    "    def stop(self):\n",
    "        print(\"정지\")\n",
    "    def __str__(self):\n",
    "        return \"Hello world\" # 매직 매서드\n",
    "    def __init__(self):\n",
    "        print('인스턴스가 만들어졌습니다.')\n",
    "        \n",
    "class Hybrid(Car):\n",
    "    battery = 1000\n",
    "    batteryKM = 300\n",
    "\n",
    "k9 = Car()\n",
    "k5 = Car()\n",
    "k3 = Hybrid()\n",
    "print(k9.maxPeople)\n",
    "print(k3.maxPeople)\n",
    "print(type(k9))\n",
    "print(dir(k9))\n",
    "print(k9)"
   ]
  }
 ],
 "metadata": {
  "kernelspec": {
   "display_name": "Python 3",
   "language": "python",
   "name": "python3"
  },
  "language_info": {
   "codemirror_mode": {
    "name": "ipython",
    "version": 3
   },
   "file_extension": ".py",
   "mimetype": "text/x-python",
   "name": "python",
   "nbconvert_exporter": "python",
   "pygments_lexer": "ipython3",
   "version": "3.7.6"
  }
 },
 "nbformat": 4,
 "nbformat_minor": 4
}
